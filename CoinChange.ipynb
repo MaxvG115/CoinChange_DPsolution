{
 "cells": [
  {
   "cell_type": "markdown",
   "id": "7c99d0dd",
   "metadata": {},
   "source": [
    "# CoinChange_DPsolution\n",
    "\n",
    "\n",
    "Queremos hacer cambio de T y tenemos una cantidad infinita de cada una de las monedas con denominaciones en denL = { den1, den2, ..}, ¿Cuál es el número mínimo de monedas de cada denominacion para dar el cambio?\n",
    "\n",
    "\n",
    "Para resolver este problema optamos por una solucion que involucra programacion dinamica. El programa desarrollado consiste en hacer uso de las denominaciones mas grandes para completar el cambio y recurrir a las siguientes en caso de no poder completar el monto.\n",
    "\n",
    "\n",
    "**El algoritmo tiene una complejidad de O(n).**"
   ]
  },
  {
   "cell_type": "code",
   "execution_count": 1,
   "id": "583fa4f7",
   "metadata": {},
   "outputs": [],
   "source": [
    "import math\n",
    "\n",
    "# Funcion para imprimir la cantidad de monedas de cada denominacion que fueron utilizadas\n",
    "def printUsedCoins(coins, denL): \n",
    "  coinsT = {coin:0 for coin in denL}\n",
    "  start = len(coins) - 1\n",
    "\n",
    "  # Establecemos la cantidad de veces que fue utilizada cada moneda\n",
    "  while start != 0:\n",
    "    j = coins[start]\n",
    "    coinsT[denL[j]] += 1\n",
    "    start -= int(denL[j])\n",
    "    \n",
    "  # Ciclamos la impresion de nuestro arreglo de denominaciones\n",
    "  for coin in denL:\n",
    "    print(f\"Coin {coin} used {coinsT[coin]} times\")\n",
    "\n",
    "    \n",
    "# Funcion para calcular la menor cantidad de monedas posible para dar el cambio\n",
    "def minNumofCoins(T, denL):\n",
    "  # Ayudantes (su proposito es ayudarnos con el calculo de monedas)\n",
    "  n = (T+1) * [0]\n",
    "  coins = (T+1) * [0]\n",
    "\n",
    "  # Igualamos los valores del arreglo n a infinito y las del arreglo coins a -1\n",
    "  for i in range(1, T+1):\n",
    "    n[i] = math.inf\n",
    "    coins[i] = -1\n",
    "\n",
    "  # Utilizamos nuestros ayudantes para verificar que una denominacion se puede utilizar\n",
    "  # Repetimos el proceso hasta conseguir el monto total de cambio\n",
    "  for i in range(0, len(denL)):\n",
    "    for j in range(1, T+1):\n",
    "      if j >= int(denL[i]):\n",
    "        # Usamos la denominacion mas grande hasta que ya no sea posible\n",
    "        if n[j-(int(denL[i]))] + 1 < n[j]:\n",
    "          n[j] = 1 + n[j-int(denL[i])]\n",
    "          coins[j] = i\n",
    "                  \n",
    "  # Imprimimos cuantas monedas ocupamos de cada denominacion\n",
    "  printUsedCoins(coins, denL)\n",
    "  # Regresa la cantidad total de monedas utilizadas\n",
    "  return n[T]"
   ]
  },
  {
   "cell_type": "markdown",
   "id": "899d99d3",
   "metadata": {},
   "source": [
    "# Recibimos 2 inputs\n",
    "\n",
    "- Primero debemos ingresar el monto del cual queremos generar cambio.\n",
    "\n",
    "\n",
    "- Despues se nos va a pedir ingresar una lista con las denominaciones de las monedas que queremos utilizar, estas deben ingresarse con un espacio de pormedio: Ej. 1 2 3 5 \n",
    "\n",
    "\n",
    "- Finalmente el programa nos devolvera el monto minimo de monedas necesarias y cuantas necesitas de cada denominacion para cumplir este escenario."
   ]
  },
  {
   "cell_type": "code",
   "execution_count": 18,
   "id": "d06fbfd9",
   "metadata": {},
   "outputs": [
    {
     "name": "stdout",
     "output_type": "stream",
     "text": [
      "Enter the amount of change: 713\n",
      "Enter the list of available denominations: (Make sure to space your different denominations)\n",
      "20 5 1\n",
      "Coin 20 used 35 times\n",
      "Coin 5 used 2 times\n",
      "Coin 1 used 3 times\n",
      "Total numbers of coins: 40\n"
     ]
    }
   ],
   "source": [
    "# Caso de Prueba\n",
    "T = int(input(\"Enter the amount of change: \"))\n",
    "denL = list(input(\"Enter the list of available denominations: (Make sure to space your different denominations)\\n\").split())\n",
    "print(f\"Total numbers of coins: {minNumofCoins(T, denL)}\")"
   ]
  }
 ],
 "metadata": {
  "kernelspec": {
   "display_name": "Python 3 (ipykernel)",
   "language": "python",
   "name": "python3"
  },
  "language_info": {
   "codemirror_mode": {
    "name": "ipython",
    "version": 3
   },
   "file_extension": ".py",
   "mimetype": "text/x-python",
   "name": "python",
   "nbconvert_exporter": "python",
   "pygments_lexer": "ipython3",
   "version": "3.9.12"
  }
 },
 "nbformat": 4,
 "nbformat_minor": 5
}
